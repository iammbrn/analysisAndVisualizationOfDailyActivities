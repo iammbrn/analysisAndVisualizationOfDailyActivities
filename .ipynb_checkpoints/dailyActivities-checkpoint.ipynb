{
 "cells": [
  {
   "cell_type": "markdown",
   "id": "b7b60606-e3f0-48a1-af98-3db7b3c26b8a",
   "metadata": {},
   "source": [
    "## Daily Activities Analysis and Visualization.\n",
    "\n",
    "   * Data Analysis\n",
    "   * Data Querying\n",
    "   * Data Filtering\n",
    "   * Data Visualization\n",
    "    "
   ]
  },
  {
   "cell_type": "markdown",
   "id": "618cedcf-614f-43d6-8fc5-b1f5e3d545b7",
   "metadata": {},
   "source": [
    "#### 1-) Data Analysis:"
   ]
  },
  {
   "cell_type": "code",
   "execution_count": 1,
   "id": "633df5ed-aac8-4144-90fa-a36020d43481",
   "metadata": {},
   "outputs": [],
   "source": [
    "#We are including the libraries.\n",
    "import numpy as np\n",
    "import pandas as pd\n",
    "import seaborn as sns\n",
    "import matplotlib.pyplot as plt\n",
    "%matplotlib inline\n"
   ]
  },
  {
   "cell_type": "code",
   "execution_count": 2,
   "id": "e234174a-702f-41fb-852f-f758bcc5606b",
   "metadata": {},
   "outputs": [],
   "source": [
    "data=pd.read_excel(\"DailyActivitiesChartInJupyterNotebook.xlsx\") #We are reading the Excel file."
   ]
  },
  {
   "cell_type": "code",
   "execution_count": 3,
   "id": "053dae00-a23f-4ea0-9449-2e33ffcef0dd",
   "metadata": {},
   "outputs": [
    {
     "data": {
      "text/html": [
       "<div>\n",
       "<style scoped>\n",
       "    .dataframe tbody tr th:only-of-type {\n",
       "        vertical-align: middle;\n",
       "    }\n",
       "\n",
       "    .dataframe tbody tr th {\n",
       "        vertical-align: top;\n",
       "    }\n",
       "\n",
       "    .dataframe thead th {\n",
       "        text-align: right;\n",
       "    }\n",
       "</style>\n",
       "<table border=\"1\" class=\"dataframe\">\n",
       "  <thead>\n",
       "    <tr style=\"text-align: right;\">\n",
       "      <th></th>\n",
       "      <th>0</th>\n",
       "      <th>1</th>\n",
       "      <th>2</th>\n",
       "      <th>3</th>\n",
       "      <th>4</th>\n",
       "      <th>5</th>\n",
       "      <th>6</th>\n",
       "    </tr>\n",
       "  </thead>\n",
       "  <tbody>\n",
       "    <tr>\n",
       "      <th>Area of Interest</th>\n",
       "      <td>Work</td>\n",
       "      <td>Family</td>\n",
       "      <td>Homeworks</td>\n",
       "      <td>Individual</td>\n",
       "      <td>Socializing</td>\n",
       "      <td>Spare Time</td>\n",
       "      <td>Sleep</td>\n",
       "    </tr>\n",
       "    <tr>\n",
       "      <th>Charles</th>\n",
       "      <td>8.5</td>\n",
       "      <td>0.5</td>\n",
       "      <td>3.0</td>\n",
       "      <td>1.0</td>\n",
       "      <td>1.5</td>\n",
       "      <td>3.0</td>\n",
       "      <td>6.5</td>\n",
       "    </tr>\n",
       "    <tr>\n",
       "      <th>Henry</th>\n",
       "      <td>9.5</td>\n",
       "      <td>1.0</td>\n",
       "      <td>2.0</td>\n",
       "      <td>1.5</td>\n",
       "      <td>0.5</td>\n",
       "      <td>2.5</td>\n",
       "      <td>7.0</td>\n",
       "    </tr>\n",
       "    <tr>\n",
       "      <th>Susan</th>\n",
       "      <td>7.0</td>\n",
       "      <td>1.5</td>\n",
       "      <td>1.0</td>\n",
       "      <td>2.5</td>\n",
       "      <td>2.0</td>\n",
       "      <td>2.0</td>\n",
       "      <td>8.0</td>\n",
       "    </tr>\n",
       "  </tbody>\n",
       "</table>\n",
       "</div>"
      ],
      "text/plain": [
       "                     0       1          2           3            4  \\\n",
       "Area of Interest  Work  Family  Homeworks  Individual  Socializing   \n",
       "Charles            8.5     0.5        3.0         1.0          1.5   \n",
       "Henry              9.5     1.0        2.0         1.5          0.5   \n",
       "Susan              7.0     1.5        1.0         2.5          2.0   \n",
       "\n",
       "                           5      6  \n",
       "Area of Interest  Spare Time  Sleep  \n",
       "Charles                  3.0    6.5  \n",
       "Henry                    2.5    7.0  \n",
       "Susan                    2.0    8.0  "
      ]
     },
     "execution_count": 3,
     "metadata": {},
     "output_type": "execute_result"
    }
   ],
   "source": [
    "data.T #We are visualizing our data."
   ]
  },
  {
   "cell_type": "code",
   "execution_count": 4,
   "id": "3c2346f2-4d0e-4da5-95c1-1e5b819aa0cd",
   "metadata": {},
   "outputs": [
    {
     "data": {
      "text/plain": [
       "(7, 4)"
      ]
     },
     "execution_count": 4,
     "metadata": {},
     "output_type": "execute_result"
    }
   ],
   "source": [
    "data.shape #We are finding the dimensions of our data on each axis (row, column)."
   ]
  },
  {
   "cell_type": "code",
   "execution_count": 5,
   "id": "184f84b2-fc61-4dac-89ba-edbaeb95c096",
   "metadata": {},
   "outputs": [
    {
     "data": {
      "text/plain": [
       "RangeIndex(start=0, stop=7, step=1)"
      ]
     },
     "execution_count": 5,
     "metadata": {},
     "output_type": "execute_result"
    }
   ],
   "source": [
    "data.index #We are finding information about the index in our data."
   ]
  },
  {
   "cell_type": "code",
   "execution_count": 6,
   "id": "bc20fc03-13ae-4711-ad89-bdeae87ba750",
   "metadata": {},
   "outputs": [
    {
     "data": {
      "text/plain": [
       "Index(['Area of Interest', 'Charles', 'Henry', 'Susan'], dtype='object')"
      ]
     },
     "execution_count": 6,
     "metadata": {},
     "output_type": "execute_result"
    }
   ],
   "source": [
    "data.columns #We are finding the columns in our data."
   ]
  },
  {
   "cell_type": "code",
   "execution_count": 7,
   "id": "8e52460c-ce5b-4c6a-acf2-3b641386f70b",
   "metadata": {},
   "outputs": [
    {
     "data": {
      "text/html": [
       "<div>\n",
       "<style scoped>\n",
       "    .dataframe tbody tr th:only-of-type {\n",
       "        vertical-align: middle;\n",
       "    }\n",
       "\n",
       "    .dataframe tbody tr th {\n",
       "        vertical-align: top;\n",
       "    }\n",
       "\n",
       "    .dataframe thead th {\n",
       "        text-align: right;\n",
       "    }\n",
       "</style>\n",
       "<table border=\"1\" class=\"dataframe\">\n",
       "  <thead>\n",
       "    <tr style=\"text-align: right;\">\n",
       "      <th></th>\n",
       "      <th>Area of Interest</th>\n",
       "      <th>Charles</th>\n",
       "      <th>Henry</th>\n",
       "      <th>Susan</th>\n",
       "    </tr>\n",
       "  </thead>\n",
       "  <tbody>\n",
       "    <tr>\n",
       "      <th>0</th>\n",
       "      <td>Work</td>\n",
       "      <td>8.5</td>\n",
       "      <td>9.5</td>\n",
       "      <td>7.0</td>\n",
       "    </tr>\n",
       "    <tr>\n",
       "      <th>1</th>\n",
       "      <td>Family</td>\n",
       "      <td>0.5</td>\n",
       "      <td>1.0</td>\n",
       "      <td>1.5</td>\n",
       "    </tr>\n",
       "    <tr>\n",
       "      <th>2</th>\n",
       "      <td>Homeworks</td>\n",
       "      <td>3.0</td>\n",
       "      <td>2.0</td>\n",
       "      <td>1.0</td>\n",
       "    </tr>\n",
       "    <tr>\n",
       "      <th>3</th>\n",
       "      <td>Individual</td>\n",
       "      <td>1.0</td>\n",
       "      <td>1.5</td>\n",
       "      <td>2.5</td>\n",
       "    </tr>\n",
       "    <tr>\n",
       "      <th>4</th>\n",
       "      <td>Socializing</td>\n",
       "      <td>1.5</td>\n",
       "      <td>0.5</td>\n",
       "      <td>2.0</td>\n",
       "    </tr>\n",
       "  </tbody>\n",
       "</table>\n",
       "</div>"
      ],
      "text/plain": [
       "  Area of Interest  Charles  Henry  Susan\n",
       "0             Work      8.5    9.5    7.0\n",
       "1           Family      0.5    1.0    1.5\n",
       "2        Homeworks      3.0    2.0    1.0\n",
       "3       Individual      1.0    1.5    2.5\n",
       "4      Socializing      1.5    0.5    2.0"
      ]
     },
     "execution_count": 7,
     "metadata": {},
     "output_type": "execute_result"
    }
   ],
   "source": [
    "data.head(5) #We use it to display the first five rows of our data."
   ]
  },
  {
   "cell_type": "code",
   "execution_count": 8,
   "id": "7130c92f-5a4d-49ca-a8f4-c38ba7717323",
   "metadata": {},
   "outputs": [
    {
     "data": {
      "text/html": [
       "<div>\n",
       "<style scoped>\n",
       "    .dataframe tbody tr th:only-of-type {\n",
       "        vertical-align: middle;\n",
       "    }\n",
       "\n",
       "    .dataframe tbody tr th {\n",
       "        vertical-align: top;\n",
       "    }\n",
       "\n",
       "    .dataframe thead th {\n",
       "        text-align: right;\n",
       "    }\n",
       "</style>\n",
       "<table border=\"1\" class=\"dataframe\">\n",
       "  <thead>\n",
       "    <tr style=\"text-align: right;\">\n",
       "      <th></th>\n",
       "      <th>Area of Interest</th>\n",
       "      <th>Charles</th>\n",
       "      <th>Henry</th>\n",
       "      <th>Susan</th>\n",
       "    </tr>\n",
       "  </thead>\n",
       "  <tbody>\n",
       "    <tr>\n",
       "      <th>4</th>\n",
       "      <td>Socializing</td>\n",
       "      <td>1.5</td>\n",
       "      <td>0.5</td>\n",
       "      <td>2.0</td>\n",
       "    </tr>\n",
       "    <tr>\n",
       "      <th>6</th>\n",
       "      <td>Sleep</td>\n",
       "      <td>6.5</td>\n",
       "      <td>7.0</td>\n",
       "      <td>8.0</td>\n",
       "    </tr>\n",
       "  </tbody>\n",
       "</table>\n",
       "</div>"
      ],
      "text/plain": [
       "  Area of Interest  Charles  Henry  Susan\n",
       "4      Socializing      1.5    0.5    2.0\n",
       "6            Sleep      6.5    7.0    8.0"
      ]
     },
     "execution_count": 8,
     "metadata": {},
     "output_type": "execute_result"
    }
   ],
   "source": [
    "data.sample(2) #We use it to display two random rows from our data."
   ]
  },
  {
   "cell_type": "code",
   "execution_count": 9,
   "id": "c5d707d8-78a5-415f-96ad-831eb31d01ac",
   "metadata": {},
   "outputs": [
    {
     "data": {
      "text/html": [
       "<div>\n",
       "<style scoped>\n",
       "    .dataframe tbody tr th:only-of-type {\n",
       "        vertical-align: middle;\n",
       "    }\n",
       "\n",
       "    .dataframe tbody tr th {\n",
       "        vertical-align: top;\n",
       "    }\n",
       "\n",
       "    .dataframe thead th {\n",
       "        text-align: right;\n",
       "    }\n",
       "</style>\n",
       "<table border=\"1\" class=\"dataframe\">\n",
       "  <thead>\n",
       "    <tr style=\"text-align: right;\">\n",
       "      <th></th>\n",
       "      <th>Area of Interest</th>\n",
       "      <th>Charles</th>\n",
       "      <th>Henry</th>\n",
       "      <th>Susan</th>\n",
       "    </tr>\n",
       "  </thead>\n",
       "  <tbody>\n",
       "    <tr>\n",
       "      <th>4</th>\n",
       "      <td>Socializing</td>\n",
       "      <td>1.5</td>\n",
       "      <td>0.5</td>\n",
       "      <td>2.0</td>\n",
       "    </tr>\n",
       "    <tr>\n",
       "      <th>5</th>\n",
       "      <td>Spare Time</td>\n",
       "      <td>3.0</td>\n",
       "      <td>2.5</td>\n",
       "      <td>2.0</td>\n",
       "    </tr>\n",
       "    <tr>\n",
       "      <th>6</th>\n",
       "      <td>Sleep</td>\n",
       "      <td>6.5</td>\n",
       "      <td>7.0</td>\n",
       "      <td>8.0</td>\n",
       "    </tr>\n",
       "  </tbody>\n",
       "</table>\n",
       "</div>"
      ],
      "text/plain": [
       "  Area of Interest  Charles  Henry  Susan\n",
       "4      Socializing      1.5    0.5    2.0\n",
       "5       Spare Time      3.0    2.5    2.0\n",
       "6            Sleep      6.5    7.0    8.0"
      ]
     },
     "execution_count": 9,
     "metadata": {},
     "output_type": "execute_result"
    }
   ],
   "source": [
    "data.tail(3) #We use it to display the last three rows of our data."
   ]
  },
  {
   "cell_type": "code",
   "execution_count": 10,
   "id": "3afa3df1-2d42-4c64-bc60-178a2a587d71",
   "metadata": {},
   "outputs": [
    {
     "name": "stdout",
     "output_type": "stream",
     "text": [
      "<class 'pandas.core.frame.DataFrame'>\n",
      "RangeIndex: 7 entries, 0 to 6\n",
      "Data columns (total 4 columns):\n",
      " #   Column            Non-Null Count  Dtype  \n",
      "---  ------            --------------  -----  \n",
      " 0   Area of Interest  7 non-null      object \n",
      " 1   Charles           7 non-null      float64\n",
      " 2   Henry             7 non-null      float64\n",
      " 3   Susan             7 non-null      float64\n",
      "dtypes: float64(3), object(1)\n",
      "memory usage: 356.0+ bytes\n"
     ]
    }
   ],
   "source": [
    "data.info() #We are displaying the memory footprint and variable types of the dataframe."
   ]
  },
  {
   "cell_type": "code",
   "execution_count": 11,
   "id": "098ad6f5-fa52-4159-ad17-8431d512571a",
   "metadata": {},
   "outputs": [
    {
     "data": {
      "text/plain": [
       "Area of Interest    0\n",
       "Charles             0\n",
       "Henry               0\n",
       "Susan               0\n",
       "dtype: int64"
      ]
     },
     "execution_count": 11,
     "metadata": {},
     "output_type": "execute_result"
    }
   ],
   "source": [
    "data.isna().sum() #We are displaying the total missing values in our data."
   ]
  },
  {
   "cell_type": "code",
   "execution_count": 12,
   "id": "1bbf8219-ae3e-435a-850b-59ca22ca66e9",
   "metadata": {},
   "outputs": [
    {
     "data": {
      "text/plain": [
       "array(['Work', 'Family', 'Homeworks', 'Individual', 'Socializing',\n",
       "       'Spare Time', 'Sleep'], dtype=object)"
      ]
     },
     "execution_count": 12,
     "metadata": {},
     "output_type": "execute_result"
    }
   ],
   "source": [
    "data[\"Area of Interest\"].unique() #We use it to display the unique values in the Columns."
   ]
  },
  {
   "cell_type": "code",
   "execution_count": 13,
   "id": "85a42d52-dfc4-4fee-b08c-c37f588f762e",
   "metadata": {},
   "outputs": [
    {
     "data": {
      "text/plain": [
       "7"
      ]
     },
     "execution_count": 13,
     "metadata": {},
     "output_type": "execute_result"
    }
   ],
   "source": [
    "data[\"Area of Interest\"].nunique() #We use it to display the number of unique values in the Columns."
   ]
  },
  {
   "cell_type": "code",
   "execution_count": 14,
   "id": "300f065d-fbe3-4c87-9666-630d3c604525",
   "metadata": {},
   "outputs": [
    {
     "data": {
      "text/plain": [
       "array([9.5, 1. , 2. , 1.5, 0.5, 2.5, 7. ])"
      ]
     },
     "execution_count": 14,
     "metadata": {},
     "output_type": "execute_result"
    }
   ],
   "source": [
    "data[\"Henry\"].unique()"
   ]
  },
  {
   "cell_type": "code",
   "execution_count": 15,
   "id": "10041fac-e959-454b-ad9d-41b594d83e6d",
   "metadata": {},
   "outputs": [
    {
     "data": {
      "text/plain": [
       "array([7. , 1.5, 1. , 2.5, 2. , 8. ])"
      ]
     },
     "execution_count": 15,
     "metadata": {},
     "output_type": "execute_result"
    }
   ],
   "source": [
    "data[\"Susan\"].unique()"
   ]
  },
  {
   "cell_type": "markdown",
   "id": "281f0667-5fec-49ca-9ba6-fe41b7f57a52",
   "metadata": {},
   "source": [
    "#### 2-) Data Querying:"
   ]
  },
  {
   "cell_type": "code",
   "execution_count": 16,
   "id": "c1182ce5-e4c8-4847-9efe-33c40e382a94",
   "metadata": {},
   "outputs": [
    {
     "data": {
      "text/plain": [
       "0    8.5\n",
       "1    0.5\n",
       "2    3.0\n",
       "3    1.0\n",
       "4    1.5\n",
       "5    3.0\n",
       "6    6.5\n",
       "Name: Charles, dtype: float64"
      ]
     },
     "execution_count": 16,
     "metadata": {},
     "output_type": "execute_result"
    }
   ],
   "source": [
    "data[\"Charles\"] #We use it to display the data in the Charles column."
   ]
  },
  {
   "cell_type": "code",
   "execution_count": 17,
   "id": "069c1351-499f-49ea-bb53-b3e0cf484743",
   "metadata": {},
   "outputs": [
    {
     "data": {
      "text/plain": [
       "7"
      ]
     },
     "execution_count": 17,
     "metadata": {},
     "output_type": "execute_result"
    }
   ],
   "source": [
    "data[\"Charles\"].size #We use it to display the number of data points in the Charles column"
   ]
  },
  {
   "cell_type": "code",
   "execution_count": 18,
   "id": "f3c881f0-2461-45a5-8da8-ef1082a7fd2a",
   "metadata": {},
   "outputs": [
    {
     "data": {
      "text/plain": [
       "Charles\n",
       "3.0    2\n",
       "8.5    1\n",
       "0.5    1\n",
       "1.0    1\n",
       "1.5    1\n",
       "6.5    1\n",
       "Name: count, dtype: int64"
      ]
     },
     "execution_count": 18,
     "metadata": {},
     "output_type": "execute_result"
    }
   ],
   "source": [
    "data[\"Charles\"].value_counts() #We use it to display the unique values in the Charles column and the count of each unique value."
   ]
  },
  {
   "cell_type": "code",
   "execution_count": 19,
   "id": "83d83265-3366-4695-a36e-c3f44bd06746",
   "metadata": {},
   "outputs": [
    {
     "data": {
      "text/plain": [
       "24.0"
      ]
     },
     "execution_count": 19,
     "metadata": {},
     "output_type": "execute_result"
    }
   ],
   "source": [
    "data[\"Charles\"].sum() #We use it to display the total sum of the data in the Charles column."
   ]
  },
  {
   "cell_type": "code",
   "execution_count": 20,
   "id": "b310bb66-aa81-4310-9832-83ecd7657645",
   "metadata": {},
   "outputs": [
    {
     "data": {
      "text/plain": [
       "3.4285714285714284"
      ]
     },
     "execution_count": 20,
     "metadata": {},
     "output_type": "execute_result"
    }
   ],
   "source": [
    "data[\"Charles\"].mean() #We use it to display the average of the data in the Charles column."
   ]
  },
  {
   "cell_type": "code",
   "execution_count": 21,
   "id": "28263519-2347-421a-a73b-79ddd812d942",
   "metadata": {},
   "outputs": [
    {
     "data": {
      "text/plain": [
       "0.5"
      ]
     },
     "execution_count": 21,
     "metadata": {},
     "output_type": "execute_result"
    }
   ],
   "source": [
    "data[\"Charles\"].min() #We use it to display the minimum value of the data in the Charles column."
   ]
  },
  {
   "cell_type": "code",
   "execution_count": 22,
   "id": "74e06c13-1b64-4ac5-a950-e4c0e45126de",
   "metadata": {},
   "outputs": [
    {
     "data": {
      "text/plain": [
       "8.5"
      ]
     },
     "execution_count": 22,
     "metadata": {},
     "output_type": "execute_result"
    }
   ],
   "source": [
    "data[\"Charles\"].max() #We use it to display the maximum value of the data in the Charles column."
   ]
  },
  {
   "cell_type": "code",
   "execution_count": 23,
   "id": "33262813-c577-4945-8fae-b5b68a32a9ec",
   "metadata": {},
   "outputs": [
    {
     "data": {
      "text/plain": [
       "3.0"
      ]
     },
     "execution_count": 23,
     "metadata": {},
     "output_type": "execute_result"
    }
   ],
   "source": [
    "data[\"Charles\"].median() #We use it to display the median of the data in the Charles column."
   ]
  },
  {
   "cell_type": "code",
   "execution_count": 24,
   "id": "e0951ed0-9719-4a9c-9f0c-549c052f441d",
   "metadata": {},
   "outputs": [
    {
     "data": {
      "text/plain": [
       "2.9920529661723827"
      ]
     },
     "execution_count": 24,
     "metadata": {},
     "output_type": "execute_result"
    }
   ],
   "source": [
    "data[\"Charles\"].std() #We use it to display the standard deviation of the data in the Charles column."
   ]
  },
  {
   "cell_type": "code",
   "execution_count": 25,
   "id": "7392db6b-878f-4b35-b5fa-5d5c3bf799f9",
   "metadata": {},
   "outputs": [
    {
     "data": {
      "text/html": [
       "<div>\n",
       "<style scoped>\n",
       "    .dataframe tbody tr th:only-of-type {\n",
       "        vertical-align: middle;\n",
       "    }\n",
       "\n",
       "    .dataframe tbody tr th {\n",
       "        vertical-align: top;\n",
       "    }\n",
       "\n",
       "    .dataframe thead th {\n",
       "        text-align: right;\n",
       "    }\n",
       "</style>\n",
       "<table border=\"1\" class=\"dataframe\">\n",
       "  <thead>\n",
       "    <tr style=\"text-align: right;\">\n",
       "      <th></th>\n",
       "      <th>count</th>\n",
       "      <th>mean</th>\n",
       "      <th>std</th>\n",
       "      <th>min</th>\n",
       "      <th>25%</th>\n",
       "      <th>50%</th>\n",
       "      <th>75%</th>\n",
       "      <th>max</th>\n",
       "    </tr>\n",
       "  </thead>\n",
       "  <tbody>\n",
       "    <tr>\n",
       "      <th>Charles</th>\n",
       "      <td>7.0</td>\n",
       "      <td>3.428571</td>\n",
       "      <td>2.992053</td>\n",
       "      <td>0.5</td>\n",
       "      <td>1.25</td>\n",
       "      <td>3.0</td>\n",
       "      <td>4.75</td>\n",
       "      <td>8.5</td>\n",
       "    </tr>\n",
       "    <tr>\n",
       "      <th>Henry</th>\n",
       "      <td>7.0</td>\n",
       "      <td>3.428571</td>\n",
       "      <td>3.433033</td>\n",
       "      <td>0.5</td>\n",
       "      <td>1.25</td>\n",
       "      <td>2.0</td>\n",
       "      <td>4.75</td>\n",
       "      <td>9.5</td>\n",
       "    </tr>\n",
       "    <tr>\n",
       "      <th>Susan</th>\n",
       "      <td>7.0</td>\n",
       "      <td>3.428571</td>\n",
       "      <td>2.834734</td>\n",
       "      <td>1.0</td>\n",
       "      <td>1.75</td>\n",
       "      <td>2.0</td>\n",
       "      <td>4.75</td>\n",
       "      <td>8.0</td>\n",
       "    </tr>\n",
       "  </tbody>\n",
       "</table>\n",
       "</div>"
      ],
      "text/plain": [
       "         count      mean       std  min   25%  50%   75%  max\n",
       "Charles    7.0  3.428571  2.992053  0.5  1.25  3.0  4.75  8.5\n",
       "Henry      7.0  3.428571  3.433033  0.5  1.25  2.0  4.75  9.5\n",
       "Susan      7.0  3.428571  2.834734  1.0  1.75  2.0  4.75  8.0"
      ]
     },
     "execution_count": 25,
     "metadata": {},
     "output_type": "execute_result"
    }
   ],
   "source": [
    "data.describe().T #We use it to display the statistical summary of our data."
   ]
  },
  {
   "cell_type": "code",
   "execution_count": 26,
   "id": "64ce791c-10bf-436a-a59a-cf7b47a95e41",
   "metadata": {},
   "outputs": [
    {
     "data": {
      "text/html": [
       "<div>\n",
       "<style scoped>\n",
       "    .dataframe tbody tr th:only-of-type {\n",
       "        vertical-align: middle;\n",
       "    }\n",
       "\n",
       "    .dataframe tbody tr th {\n",
       "        vertical-align: top;\n",
       "    }\n",
       "\n",
       "    .dataframe thead th {\n",
       "        text-align: right;\n",
       "    }\n",
       "</style>\n",
       "<table border=\"1\" class=\"dataframe\">\n",
       "  <thead>\n",
       "    <tr style=\"text-align: right;\">\n",
       "      <th>Area of Interest</th>\n",
       "      <th>Family</th>\n",
       "      <th>Homeworks</th>\n",
       "      <th>Individual</th>\n",
       "      <th>Sleep</th>\n",
       "      <th>Socializing</th>\n",
       "      <th>Spare Time</th>\n",
       "      <th>Work</th>\n",
       "    </tr>\n",
       "  </thead>\n",
       "  <tbody>\n",
       "    <tr>\n",
       "      <th>Charles</th>\n",
       "      <td>0.5</td>\n",
       "      <td>3.0</td>\n",
       "      <td>1.0</td>\n",
       "      <td>6.5</td>\n",
       "      <td>1.5</td>\n",
       "      <td>3.0</td>\n",
       "      <td>8.5</td>\n",
       "    </tr>\n",
       "    <tr>\n",
       "      <th>Henry</th>\n",
       "      <td>1.0</td>\n",
       "      <td>2.0</td>\n",
       "      <td>1.5</td>\n",
       "      <td>7.0</td>\n",
       "      <td>0.5</td>\n",
       "      <td>2.5</td>\n",
       "      <td>9.5</td>\n",
       "    </tr>\n",
       "    <tr>\n",
       "      <th>Susan</th>\n",
       "      <td>1.5</td>\n",
       "      <td>1.0</td>\n",
       "      <td>2.5</td>\n",
       "      <td>8.0</td>\n",
       "      <td>2.0</td>\n",
       "      <td>2.0</td>\n",
       "      <td>7.0</td>\n",
       "    </tr>\n",
       "  </tbody>\n",
       "</table>\n",
       "</div>"
      ],
      "text/plain": [
       "Area of Interest  Family  Homeworks  Individual  Sleep  Socializing  \\\n",
       "Charles              0.5        3.0         1.0    6.5          1.5   \n",
       "Henry                1.0        2.0         1.5    7.0          0.5   \n",
       "Susan                1.5        1.0         2.5    8.0          2.0   \n",
       "\n",
       "Area of Interest  Spare Time  Work  \n",
       "Charles                  3.0   8.5  \n",
       "Henry                    2.5   9.5  \n",
       "Susan                    2.0   7.0  "
      ]
     },
     "execution_count": 26,
     "metadata": {},
     "output_type": "execute_result"
    }
   ],
   "source": [
    "data.groupby(\"Area of Interest\").min().T #We use it to display the minimum values of the indices in the Area of Interest column."
   ]
  },
  {
   "cell_type": "code",
   "execution_count": 27,
   "id": "c3441258-5794-4b49-8845-7d1a19cda432",
   "metadata": {},
   "outputs": [
    {
     "data": {
      "text/html": [
       "<div>\n",
       "<style scoped>\n",
       "    .dataframe tbody tr th:only-of-type {\n",
       "        vertical-align: middle;\n",
       "    }\n",
       "\n",
       "    .dataframe tbody tr th {\n",
       "        vertical-align: top;\n",
       "    }\n",
       "\n",
       "    .dataframe thead th {\n",
       "        text-align: right;\n",
       "    }\n",
       "</style>\n",
       "<table border=\"1\" class=\"dataframe\">\n",
       "  <thead>\n",
       "    <tr style=\"text-align: right;\">\n",
       "      <th></th>\n",
       "      <th>Charles</th>\n",
       "      <th>Henry</th>\n",
       "      <th>Susan</th>\n",
       "    </tr>\n",
       "    <tr>\n",
       "      <th>Area of Interest</th>\n",
       "      <th></th>\n",
       "      <th></th>\n",
       "      <th></th>\n",
       "    </tr>\n",
       "  </thead>\n",
       "  <tbody>\n",
       "    <tr>\n",
       "      <th>Work</th>\n",
       "      <td>8.5</td>\n",
       "      <td>9.5</td>\n",
       "      <td>7.0</td>\n",
       "    </tr>\n",
       "    <tr>\n",
       "      <th>Family</th>\n",
       "      <td>0.5</td>\n",
       "      <td>1.0</td>\n",
       "      <td>1.5</td>\n",
       "    </tr>\n",
       "  </tbody>\n",
       "</table>\n",
       "</div>"
      ],
      "text/plain": [
       "                  Charles  Henry  Susan\n",
       "Area of Interest                       \n",
       "Work                  8.5    9.5    7.0\n",
       "Family                0.5    1.0    1.5"
      ]
     },
     "execution_count": 27,
     "metadata": {},
     "output_type": "execute_result"
    }
   ],
   "source": [
    "data.groupby(\"Area of Interest\").min().loc[[\"Work\",\"Family\"]] #We use it to display the minimum values of the 'Work' and 'Family' indices in the Area of Interest column."
   ]
  },
  {
   "cell_type": "code",
   "execution_count": 28,
   "id": "6ddc2643-694b-43f3-85dd-071d08209abb",
   "metadata": {},
   "outputs": [
    {
     "data": {
      "text/plain": [
       "Area of Interest   \n",
       "Family            1     2.25\n",
       "Homeworks         2     1.00\n",
       "Individual        3     6.25\n",
       "Sleep             6    64.00\n",
       "Socializing       4     4.00\n",
       "Spare Time        5     4.00\n",
       "Work              0    49.00\n",
       "Name: Susan, dtype: float64"
      ]
     },
     "execution_count": 28,
     "metadata": {},
     "output_type": "execute_result"
    }
   ],
   "source": [
    "data.groupby(\"Area of Interest\")[\"Susan\"].apply(lambda x: x**2) #We use it to apply the function inside the 'apply' to the 'Susan' values in the indices of the Area of Interest column and display the result."
   ]
  },
  {
   "cell_type": "markdown",
   "id": "9f502a5a-1b06-43d2-b9d0-0b971e2ff2b3",
   "metadata": {},
   "source": [
    "#### 3-) Data Filtering:"
   ]
  },
  {
   "cell_type": "code",
   "execution_count": 29,
   "id": "fabd4b09-ca6d-4f92-9307-1662af268f28",
   "metadata": {},
   "outputs": [
    {
     "data": {
      "text/html": [
       "<div>\n",
       "<style scoped>\n",
       "    .dataframe tbody tr th:only-of-type {\n",
       "        vertical-align: middle;\n",
       "    }\n",
       "\n",
       "    .dataframe tbody tr th {\n",
       "        vertical-align: top;\n",
       "    }\n",
       "\n",
       "    .dataframe thead th {\n",
       "        text-align: right;\n",
       "    }\n",
       "</style>\n",
       "<table border=\"1\" class=\"dataframe\">\n",
       "  <thead>\n",
       "    <tr style=\"text-align: right;\">\n",
       "      <th></th>\n",
       "      <th>Area of Interest</th>\n",
       "      <th>Charles</th>\n",
       "      <th>Henry</th>\n",
       "      <th>Susan</th>\n",
       "    </tr>\n",
       "  </thead>\n",
       "  <tbody>\n",
       "    <tr>\n",
       "      <th>0</th>\n",
       "      <td>Work</td>\n",
       "      <td>8.5</td>\n",
       "      <td>9.5</td>\n",
       "      <td>7.0</td>\n",
       "    </tr>\n",
       "    <tr>\n",
       "      <th>6</th>\n",
       "      <td>Sleep</td>\n",
       "      <td>6.5</td>\n",
       "      <td>7.0</td>\n",
       "      <td>8.0</td>\n",
       "    </tr>\n",
       "  </tbody>\n",
       "</table>\n",
       "</div>"
      ],
      "text/plain": [
       "  Area of Interest  Charles  Henry  Susan\n",
       "0             Work      8.5    9.5    7.0\n",
       "6            Sleep      6.5    7.0    8.0"
      ]
     },
     "execution_count": 29,
     "metadata": {},
     "output_type": "execute_result"
    }
   ],
   "source": [
    "data[(data[\"Charles\"]>5) & (data[\"Susan\"]>5)] #We use it to display values greater than 5 in the 'Charles' and 'Susan' columns."
   ]
  },
  {
   "cell_type": "code",
   "execution_count": 30,
   "id": "624fc72c-2208-48de-bcc7-af0489c7432f",
   "metadata": {},
   "outputs": [
    {
     "data": {
      "text/html": [
       "<div>\n",
       "<style scoped>\n",
       "    .dataframe tbody tr th:only-of-type {\n",
       "        vertical-align: middle;\n",
       "    }\n",
       "\n",
       "    .dataframe tbody tr th {\n",
       "        vertical-align: top;\n",
       "    }\n",
       "\n",
       "    .dataframe thead th {\n",
       "        text-align: right;\n",
       "    }\n",
       "</style>\n",
       "<table border=\"1\" class=\"dataframe\">\n",
       "  <thead>\n",
       "    <tr style=\"text-align: right;\">\n",
       "      <th></th>\n",
       "      <th>Area of Interest</th>\n",
       "      <th>Charles</th>\n",
       "      <th>Henry</th>\n",
       "      <th>Susan</th>\n",
       "    </tr>\n",
       "  </thead>\n",
       "  <tbody>\n",
       "    <tr>\n",
       "      <th>2</th>\n",
       "      <td>Homeworks</td>\n",
       "      <td>3.0</td>\n",
       "      <td>2.0</td>\n",
       "      <td>1.0</td>\n",
       "    </tr>\n",
       "  </tbody>\n",
       "</table>\n",
       "</div>"
      ],
      "text/plain": [
       "  Area of Interest  Charles  Henry  Susan\n",
       "2        Homeworks      3.0    2.0    1.0"
      ]
     },
     "execution_count": 30,
     "metadata": {},
     "output_type": "execute_result"
    }
   ],
   "source": [
    "data[data[\"Henry\"]==2*data[\"Susan\"]] #We use it to display values in the 'Henry' column that are equal to twice the values in the 'Susan' column."
   ]
  },
  {
   "cell_type": "code",
   "execution_count": 31,
   "id": "92e35f35-6b4c-41f1-af19-374064c4b78b",
   "metadata": {},
   "outputs": [
    {
     "data": {
      "text/html": [
       "<div>\n",
       "<style scoped>\n",
       "    .dataframe tbody tr th:only-of-type {\n",
       "        vertical-align: middle;\n",
       "    }\n",
       "\n",
       "    .dataframe tbody tr th {\n",
       "        vertical-align: top;\n",
       "    }\n",
       "\n",
       "    .dataframe thead th {\n",
       "        text-align: right;\n",
       "    }\n",
       "</style>\n",
       "<table border=\"1\" class=\"dataframe\">\n",
       "  <thead>\n",
       "    <tr style=\"text-align: right;\">\n",
       "      <th></th>\n",
       "      <th>Area of Interest</th>\n",
       "      <th>Charles</th>\n",
       "      <th>Henry</th>\n",
       "      <th>Susan</th>\n",
       "    </tr>\n",
       "  </thead>\n",
       "  <tbody>\n",
       "    <tr>\n",
       "      <th>1</th>\n",
       "      <td>Family</td>\n",
       "      <td>0.5</td>\n",
       "      <td>1.0</td>\n",
       "      <td>1.5</td>\n",
       "    </tr>\n",
       "    <tr>\n",
       "      <th>2</th>\n",
       "      <td>Homeworks</td>\n",
       "      <td>3.0</td>\n",
       "      <td>2.0</td>\n",
       "      <td>1.0</td>\n",
       "    </tr>\n",
       "    <tr>\n",
       "      <th>4</th>\n",
       "      <td>Socializing</td>\n",
       "      <td>1.5</td>\n",
       "      <td>0.5</td>\n",
       "      <td>2.0</td>\n",
       "    </tr>\n",
       "    <tr>\n",
       "      <th>5</th>\n",
       "      <td>Spare Time</td>\n",
       "      <td>3.0</td>\n",
       "      <td>2.5</td>\n",
       "      <td>2.0</td>\n",
       "    </tr>\n",
       "  </tbody>\n",
       "</table>\n",
       "</div>"
      ],
      "text/plain": [
       "  Area of Interest  Charles  Henry  Susan\n",
       "1           Family      0.5    1.0    1.5\n",
       "2        Homeworks      3.0    2.0    1.0\n",
       "4      Socializing      1.5    0.5    2.0\n",
       "5       Spare Time      3.0    2.5    2.0"
      ]
     },
     "execution_count": 31,
     "metadata": {},
     "output_type": "execute_result"
    }
   ],
   "source": [
    "#We use it to display values in the 'Henry' column that are equal to twice the values in the 'Charles' column, or values in the 'Charles' column that are greater than the values in the 'Henry' column.\n",
    "data[(data[\"Henry\"]==2*data[\"Charles\"]) | (data[\"Charles\"]>data[\"Henry\"])]"
   ]
  },
  {
   "cell_type": "markdown",
   "id": "7fb12ea4-47f5-4b93-87ac-2873993fae3e",
   "metadata": {},
   "source": [
    "#### 4-) Data Visualization:"
   ]
  },
  {
   "cell_type": "code",
   "execution_count": 36,
   "id": "6b07388a-3653-4106-af13-63dfb682147c",
   "metadata": {},
   "outputs": [
    {
     "data": {
      "image/png": "[encoded data removed]",
      "text/plain": [
       "<Figure size 640x480 with 1 Axes>"
      ]
     },
     "metadata": {},
     "output_type": "display_data"
    }
   ],
   "source": [
    "#Data visualization for the Charles column.\n",
    "\n",
    "sns.barplot(x=\"Area of Interest\", y=\"Charles\", data=data) #We used it to create a bar chart based on the X and Y axes.\n",
    "plt.xticks(rotation=45) #We rotated the labels on the X axis by 45 degrees.\n",
    "plt.ylabel(\"Time\") #We labeled the Y axis as 'Time'.\n",
    "plt.title(\"Charles\") #We set the overall title of our graph as 'Charles'.\n",
    "plt.grid(True) #We added vertical and horizontal grid lines to our graph.\n",
    "plt.tight_layout() # We used it to make our graph smoother and more understandable.\n",
    "plt.savefig(\"Charles_Chart.png\") #We used it to save the graph we created to the current file.\n",
    "plt.show() #We use it to display the graph."
   ]
  },
  {
   "cell_type": "code",
   "execution_count": 37,
   "id": "ea9fd916-fb55-4a19-b91e-9c32d4113f14",
   "metadata": {},
   "outputs": [
    {
     "data": {
      "image/png": "[encoded data removed]",
      "text/plain": [
       "<Figure size 640x480 with 1 Axes>"
      ]
     },
     "metadata": {},
     "output_type": "display_data"
    }
   ],
   "source": [
    "#Data visualization for the Henry column.\n",
    "\n",
    "sns.barplot(x=\"Area of Interest\",y=\"Henry\",data=data); \n",
    "plt.xticks(rotation=45) \n",
    "plt.ylabel(\"Time\") \n",
    "plt.title(\"Henry\") \n",
    "plt.grid(True)\n",
    "plt.tight_layout()\n",
    "plt.savefig(\"Henry_Chart.png\")\n",
    "plt.show()\n"
   ]
  },
  {
   "cell_type": "code",
   "execution_count": 38,
   "id": "6a5386ba-3a38-4419-bd17-6223c4c1cebb",
   "metadata": {},
   "outputs": [
    {
     "data": {
      "image/png": "[encoded data removed]",
      "text/plain": [
       "<Figure size 640x480 with 1 Axes>"
      ]
     },
     "metadata": {},
     "output_type": "display_data"
    }
   ],
   "source": [
    "#Data visualization for the Susan column.\n",
    "\n",
    "sns.barplot(data=data,x=\"Area of Interest\", y=\"Susan\")\n",
    "plt.xticks(rotation=45)\n",
    "plt.ylabel(\"Time\")\n",
    "plt.title(\"Susan\")\n",
    "plt.grid(True)\n",
    "plt.tight_layout()\n",
    "plt.savefig(\"Susan_Chart.png\")\n",
    "plt.show()"
   ]
  },
  {
   "cell_type": "code",
   "execution_count": 39,
   "id": "daaf7885-cc75-445b-818e-e2f677da0e45",
   "metadata": {},
   "outputs": [
    {
     "data": {
      "image/png": "[encoded data removed]",
      "text/plain": [
       "<Figure size 640x480 with 1 Axes>"
      ]
     },
     "metadata": {},
     "output_type": "display_data"
    }
   ],
   "source": [
    "# Visualization for the Charles, Henry, and Susan columns.\n",
    "\n",
    "bar_width = 0.2  \n",
    "\n",
    "plt.bar(data.index - bar_width, data[\"Charles\"], width=bar_width, label=\"Charles\")\n",
    "plt.bar(data.index, data[\"Henry\"], width=bar_width, label=\"Henry\")\n",
    "plt.bar(data.index + bar_width, data[\"Susan\"], width=bar_width, label=\"Susan\")\n",
    "\n",
    "plt.xticks(data.index, data[\"Area of Interest\"], rotation=45)  \n",
    "plt.xlabel('Area of Interest')\n",
    "plt.ylabel('Time')\n",
    "plt.title(\"How many hours spend in daily activities?\")\n",
    "plt.tight_layout() \n",
    "plt.legend()\n",
    "plt.grid(True)\n",
    "plt.tight_layout()\n",
    "plt.savefig(\"Charles_Henry_Susan_Chart.png\")\n",
    "plt.show()\n"
   ]
  },
  {
   "cell_type": "code",
   "execution_count": null,
   "id": "d9411303-3cab-4f82-acd7-217641ccb514",
   "metadata": {},
   "outputs": [],
   "source": []
  },
  {
   "cell_type": "code",
   "execution_count": null,
   "id": "ece3ce17-6861-4f6a-a348-2af1420e6523",
   "metadata": {},
   "outputs": [],
   "source": []
  }
 ],
 "metadata": {
  "kernelspec": {
   "display_name": "Python 3 (ipykernel)",
   "language": "python",
   "name": "python3"
  },
  "language_info": {
   "codemirror_mode": {
    "name": "ipython",
    "version": 3
   },
   "file_extension": ".py",
   "mimetype": "text/x-python",
   "name": "python",
   "nbconvert_exporter": "python",
   "pygments_lexer": "ipython3",
   "version": "3.11.7"
  }
 },
 "nbformat": 4,
 "nbformat_minor": 5
}
