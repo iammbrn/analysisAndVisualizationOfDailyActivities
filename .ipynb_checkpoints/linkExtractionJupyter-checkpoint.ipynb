{
 "cells": [
  {
   "cell_type": "markdown",
   "id": "8a9b003c-fe25-40e7-aa5e-0920d3653d49",
   "metadata": {},
   "source": [
    "**Code Implementation Task:**\n",
    "Assume any database includes below columns and you are requested to process Stats_Access_Link column and extract pure url information inside per device type. \r\n",
    "\r\n",
    "    Rules: \r\n",
    "-   Xml tags and protocol parts is guaranteed to be lower case  \r\n",
    "-   Access link part that we are interested in can have alpha-numeric, case insensitive characters, underscore ( _ ) character and dot ( . ) character only.  \r\n",
    "\r\n",
    "What would you use for this task, please write your detailed answer with exact solution? Please  provide the link to your code as answer to this question \r\n",
    "\r\n",
    "Example: for the device type AXO145, we would like to get xcd32112.smart_meter.com regardless from its access protocol is SSL secured or not.or not.\""
   ]
  },
  {
   "cell_type": "markdown",
   "id": "de1ac37f-c782-4832-bb97-78d0c2724410",
   "metadata": {},
   "source": [
    "### Description:"
   ]
  },
  {
   "cell_type": "markdown",
   "id": "67c3856a-3657-428f-8efa-8e662340fecb",
   "metadata": {},
   "source": [
    "In the Python code below, to perform the required task, I first created the 'LinkDatabase' class to create the database and perform various operations (creating a connection, creating a table, adding data, deleting data, fetching data, and closing the connection). Then, to retrieve data from the database and extract access links from URL information, I created the 'LinkExtractionFromDatabase' class, which inherits from the 'LinkDatabase' class. Additionally, I used a 'While' loop to perform these operations as many times as desired, allowing the user to perform their desired tasks within the loop until they press 'q' to terminate the program. Finally, I used 'Try' and 'Except' functions to show the user any errors that may occur while performing an operation."
   ]
  },
  {
   "cell_type": "code",
   "execution_count": 1,
   "id": "49ee3a48-8eab-4c7d-87d3-2bfdad81916f",
   "metadata": {},
   "outputs": [
    {
     "name": "stdout",
     "output_type": "stream",
     "text": [
      "Dear user, what would you like to do?\n",
      "If the operation is 'q', the program will terminate.\n",
      "If the operation is '1', new data will be added to the database.\n",
      "If the operation is '2', access links are retrieved as a list from the device types and URLs of the data in the database.\n",
      "If the operation is '3', we can delete the data we want by entering the data we want to delete from the database.\n",
      "\n"
     ]
    },
    {
     "name": "stdin",
     "output_type": "stream",
     "text": [
      "Operation= 2\n"
     ]
    },
    {
     "name": "stdout",
     "output_type": "stream",
     "text": [
      "The data is being retrieved from the database...\n",
      "[]\n",
      "The data has been retrieved from the database.\n"
     ]
    },
    {
     "name": "stdin",
     "output_type": "stream",
     "text": [
      "Operation= 1\n",
      "devcieType= AXO145\n",
      "statsAccessLink= <url>https://xcd32112.smart_meter.com</url>\n"
     ]
    },
    {
     "name": "stdout",
     "output_type": "stream",
     "text": [
      "The data is being added to the database...\n",
      "The data has been added to the database.\n"
     ]
    },
    {
     "name": "stdin",
     "output_type": "stream",
     "text": [
      "Operation= 1\n",
      "devcieType= TRU151 \n",
      "statsAccessLink= <url>https://tXh67.dia_meter.com</url>\n"
     ]
    },
    {
     "name": "stdout",
     "output_type": "stream",
     "text": [
      "The data is being added to the database...\n",
      "The data has been added to the database.\n"
     ]
    },
    {
     "name": "stdin",
     "output_type": "stream",
     "text": [
      "Operation= 1\n",
      "devcieType= ZOD231\n",
      "statsAccessLink= <url>https://yT5495.smart_meter.com</url>\n"
     ]
    },
    {
     "name": "stdout",
     "output_type": "stream",
     "text": [
      "The data is being added to the database...\n",
      "The data has been added to the database.\n"
     ]
    },
    {
     "name": "stdin",
     "output_type": "stream",
     "text": [
      "Operation= 1\n",
      "devcieType= YRT326\n",
      "statsAccessLink= <url>https://ret323.TRu.crown.com</url>\n"
     ]
    },
    {
     "name": "stdout",
     "output_type": "stream",
     "text": [
      "The data is being added to the database...\n",
      "The data has been added to the database.\n"
     ]
    },
    {
     "name": "stdin",
     "output_type": "stream",
     "text": [
      "Operation= 1\n",
      "devcieType= LWR245\n",
      "statsAccessLink= <url>https://luwr3243.celcius.com</url>\n"
     ]
    },
    {
     "name": "stdout",
     "output_type": "stream",
     "text": [
      "The data is being added to the database...\n",
      "The data has been added to the database.\n"
     ]
    },
    {
     "name": "stdin",
     "output_type": "stream",
     "text": [
      "Operation= 1\n",
      "devcieType= a\n",
      "statsAccessLink= <url>https://a.smart_meter.com</url>\n"
     ]
    },
    {
     "name": "stdout",
     "output_type": "stream",
     "text": [
      "The data is being added to the database...\n",
      "The data has been added to the database.\n"
     ]
    },
    {
     "name": "stdin",
     "output_type": "stream",
     "text": [
      "Operation= 2\n"
     ]
    },
    {
     "name": "stdout",
     "output_type": "stream",
     "text": [
      "The data is being retrieved from the database...\n",
      "[('AXO145', 'https://xcd32112.smart_meter.com'), ('TRU151 ', 'https://tXh67.dia_meter.com'), ('ZOD231', 'https://yT5495.smart_meter.com'), ('YRT326', 'https://ret323.TRu.crown.com'), ('LWR245', 'https://luwr3243.celcius.com'), ('a', 'https://a.smart_meter.com')]\n",
      "The data has been retrieved from the database.\n"
     ]
    },
    {
     "name": "stdin",
     "output_type": "stream",
     "text": [
      "Operation= 3\n",
      "devcieType= a\n",
      "statsAccessLink= <url>https://a.smart_meter.com</url>\n"
     ]
    },
    {
     "name": "stdout",
     "output_type": "stream",
     "text": [
      "The data is being deleted from the database...\n",
      "The data has been deleted from the database.\n"
     ]
    },
    {
     "name": "stdin",
     "output_type": "stream",
     "text": [
      "Operation= 2\n"
     ]
    },
    {
     "name": "stdout",
     "output_type": "stream",
     "text": [
      "The data is being retrieved from the database...\n",
      "[('AXO145', 'https://xcd32112.smart_meter.com'), ('TRU151 ', 'https://tXh67.dia_meter.com'), ('ZOD231', 'https://yT5495.smart_meter.com'), ('YRT326', 'https://ret323.TRu.crown.com'), ('LWR245', 'https://luwr3243.celcius.com')]\n",
      "The data has been retrieved from the database.\n"
     ]
    },
    {
     "name": "stdin",
     "output_type": "stream",
     "text": [
      "Operation= q\n"
     ]
    },
    {
     "name": "stdout",
     "output_type": "stream",
     "text": [
      "The program is being terminated...\n",
      "The program has terminated.\n"
     ]
    }
   ],
   "source": [
    "import sqlite3\n",
    "import time\n",
    "import re\n",
    "\n",
    "\n",
    "class LinkDatabase():\n",
    "\n",
    "    def __init__(self):\n",
    "        self.createConnectWithDatabase()\n",
    "\n",
    "    def createConnectWithDatabase(self):\n",
    "        self.connect = sqlite3.connect(\"LinkDatabase.db\")\n",
    "        self.cursor = self.connect.cursor()\n",
    "\n",
    "        self.cursor.execute(\"Create Table If Not Exists LinkDatabase(deviceType TEXT, statsAccessLink TEXT)\")\n",
    "        self.connect.commit()\n",
    "\n",
    "    def addDataToDatbase(self, deviceType, statsAccessLink):\n",
    "        self.cursor.execute(\"Insert Into LinkDatabase Values(?,?)\", (deviceType, statsAccessLink))\n",
    "        self.connect.commit()\n",
    "\n",
    "    def deleteDataFromDatabase(self, devcieType, statsAccessLink):\n",
    "        self.cursor.execute(\"Delete From LinkDatabase Where deviceType=? And statsAccessLink=?\", (deviceType, statsAccessLink))\n",
    "\n",
    "        self.connect.commit()\n",
    "\n",
    "    def getDataFromDatabase(self):\n",
    "        self.cursor.execute(\"Select * From LinkDatabase\")\n",
    "        data = self.cursor.fetchall()\n",
    "        return data\n",
    "\n",
    "    def closeConnection(self):\n",
    "        self.connect.close()\n",
    "\n",
    "\n",
    "class LinkExtractionFromDatabase(LinkDatabase):\n",
    "\n",
    "    def __init__(self):\n",
    "        super().__init__()\n",
    "\n",
    "    def linkExtractionFromDatabase(self):\n",
    "        data = self.getDataFromDatabase()\n",
    "        urlList = list()\n",
    "\n",
    "        for deviceType, url in data:\n",
    "            access_link_match = re.search(r'<url>(.*?)</url>', url, re.IGNORECASE)\n",
    "\n",
    "            if access_link_match:\n",
    "                urlList.append((deviceType, access_link_match.group(1)))\n",
    "\n",
    "        return urlList\n",
    "\n",
    "\n",
    "print(\"Dear user, what would you like to do?\\n\"\n",
    "      \"If the operation is 'q', the program will terminate.\\n\"\n",
    "      \"If the operation is '1', new data will be added to the database.\\n\"\n",
    "      \"If the operation is '2', access links are retrieved as a list from the device types and URLs of the data in the database.\\n\"\n",
    "      \"If the operation is '3', we can delete the data we want by entering the data we want to delete from the database.\\n\")\n",
    "\n",
    "if __name__ == \"__main__\":\n",
    "    object = LinkExtractionFromDatabase()\n",
    "\n",
    "    while True:\n",
    "        operation = input(\"Operation=\")\n",
    "\n",
    "        if operation == \"q\":\n",
    "            try:\n",
    "                object.closeConnection()\n",
    "                print(\"The program is being terminated...\")\n",
    "                time.sleep(2)\n",
    "                print(\"The program has terminated.\")\n",
    "                break\n",
    "\n",
    "            except Exception as e:\n",
    "                print(\"Error! The program could not terminate.\")\n",
    "                print(e)\n",
    "\n",
    "        elif operation == \"1\":\n",
    "            try:\n",
    "                deviceType = input(\"devcieType=\")\n",
    "                statsAccessLink = input(\"statsAccessLink=\")\n",
    "                print(\"The data is being added to the database...\")\n",
    "                time.sleep(2)\n",
    "                object.addDataToDatbase(deviceType, statsAccessLink)\n",
    "                print(\"The data has been added to the database.\")\n",
    "\n",
    "            except Exception as e:\n",
    "                print(\"Error! The data could not be added to the database.\")\n",
    "                print(e)\n",
    "\n",
    "        elif operation == \"2\":\n",
    "            try:\n",
    "                print(\"The data is being retrieved from the database...\")\n",
    "                time.sleep(2)\n",
    "                print(object.linkExtractionFromDatabase())\n",
    "                print(\"The data has been retrieved from the database.\")\n",
    "\n",
    "            except Exception as e:\n",
    "                print(\"Error! The data could not be retrieved from the database.\")\n",
    "                print(e)\n",
    "\n",
    "        elif operation == \"3\":\n",
    "            try:\n",
    "                deviceType = input(\"devcieType=\")\n",
    "                statsAccessLink = input(\"statsAccessLink=\")\n",
    "                print(\"The data is being deleted from the database...\")\n",
    "                time.sleep(2)\n",
    "                object.deleteDataFromDatabase(deviceType, statsAccessLink)\n",
    "                print(\"The data has been deleted from the database.\")\n",
    "\n",
    "            except Exception as e:\n",
    "                print(\"Error! The data could not be deleted from the database.\")\n",
    "                print(e)\n",
    "        else:\n",
    "            print(\"Error! Please enter the correct operation you want to perform.\")"
   ]
  }
 ],
 "metadata": {
  "kernelspec": {
   "display_name": "Python 3 (ipykernel)",
   "language": "python",
   "name": "python3"
  },
  "language_info": {
   "codemirror_mode": {
    "name": "ipython",
    "version": 3
   },
   "file_extension": ".py",
   "mimetype": "text/x-python",
   "name": "python",
   "nbconvert_exporter": "python",
   "pygments_lexer": "ipython3",
   "version": "3.11.7"
  }
 },
 "nbformat": 4,
 "nbformat_minor": 5
}
