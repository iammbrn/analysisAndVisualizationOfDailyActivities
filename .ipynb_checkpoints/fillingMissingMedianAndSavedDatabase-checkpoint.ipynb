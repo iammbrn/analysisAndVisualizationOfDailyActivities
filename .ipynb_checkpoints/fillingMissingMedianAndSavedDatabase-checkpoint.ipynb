{
 "cells": [
  {
   "cell_type": "markdown",
   "id": "49a5faa3-9c6b-4132-bf62-8c24aee0ecd8",
   "metadata": {},
   "source": [
    "**Code Implementation Task:** If this list would be a database table, please provide SQL query to fill in the missing daily vaccination numbers with discrete median of country as similar to question a.  \n",
    "Please  provide the link to your code as answer to this question. \n",
    "Note: This time SQL equivalent is requested, and imputation value is median of each country, not minimum. Please remember filling countries with zero if they do not have any valid daily_vaccination records like Kuwait.**"
   ]
  },
  {
   "cell_type": "code",
   "execution_count": 14,
   "id": "a8242f64-5a37-470d-a425-fe952cfb90d7",
   "metadata": {},
   "outputs": [],
   "source": [
    "#We are including the libraries.\n",
    "\n",
    "import sqlite3\n",
    "import numpy as np\n",
    "import pandas as pd\n",
    "import matplotlib.pyplot as plt\n",
    "import seaborn as sns\n",
    "import missingno "
   ]
  },
  {
   "cell_type": "code",
   "execution_count": 15,
   "id": "d274d0af-874a-430b-9480-4e9416a3e1fa",
   "metadata": {},
   "outputs": [],
   "source": [
    "data=pd.read_csv(\"country_vaccination_stats.csv\") #We are reading the CSV file.\n",
    "dataCopy=data"
   ]
  },
  {
   "cell_type": "markdown",
   "id": "9398a957-1801-4041-ab38-5affbd672deb",
   "metadata": {},
   "source": [
    "Below, I've created two classes to find the new values of missing data, fill in the missing values, and save them to the database. The 'CreateDatabase' class deals with the database part, such as creating the database, saving data, and updating data. I created the 'CalculateMedian' class to calculate the median."
   ]
  },
  {
   "cell_type": "code",
   "execution_count": 16,
   "id": "a13c87a7-db20-4c96-8e25-025b85dd050d",
   "metadata": {},
   "outputs": [
    {
     "name": "stdout",
     "output_type": "stream",
     "text": [
      "What do you want to do?\n",
      "If operation is 'q', terminate the program.\n",
      "If operation is '1', Create the Database and Save the Dataset.\n",
      "If operation is '2', Fill missing data in the Dataset with Median and save to the database.\n",
      "\n"
     ]
    },
    {
     "name": "stdin",
     "output_type": "stream",
     "text": [
      "Opreation= 2\n",
      "Opreation= q\n"
     ]
    }
   ],
   "source": [
    "class CreateDatabse():\n",
    "\n",
    "    def __init__(self):\n",
    "\n",
    "        self.createConnect()\n",
    "\n",
    "    def createConnect(self):\n",
    "\n",
    "        self.connect=sqlite3.connect(\"Database.db\")\n",
    "        self.cursor=self.connect.cursor()\n",
    "        self.cursor.execute(\"Create Table If Not Exists Dataset(country TEXT,date TEXT, daily_vaccinations FLOAT, vaccines TEXT)\")\n",
    "\n",
    "    def loadTheDataset(self,data):\n",
    "        for country,date,daily_vaccinations,vaccines in data:\n",
    "            self.cursor.execute(\"Insert Into Dataset Values(?,?,?,?)\",(country,date,daily_vaccinations,vaccines))\n",
    "            self.connect.commit()\n",
    "\n",
    "    def updateTheDataset(self,data):\n",
    "        for country,date,daily_vaccinations,vaccines in data:\n",
    "            self.cursor.execute(\"UPDATE Dataset SET daily_vaccinations = ? WHERE country = ? AND date = ? AND daily_vaccinations IS NULL\", (daily_vaccinations, country, date))\n",
    "            self.connect.commit()\n",
    "        \n",
    "\n",
    "    def closeConnection(self):\n",
    "        self.connect.close()\n",
    "\n",
    "\n",
    "        \n",
    "class calculateMedian():\n",
    "\n",
    "    def calculateMedianOfData(self,dataOfMedian):\n",
    "        \n",
    "        countries = dataOfMedian[\"country\"].unique()\n",
    "        \n",
    "        for country in countries:\n",
    "            value=dataOfMedian[dataOfMedian[\"country\"]==country][\"daily_vaccinations\"].median()\n",
    "            if str(value)!=\"nan\":\n",
    "                dataOfMedian.loc[dataOfMedian[\"country\"]==country,\"daily_vaccinations\"]=value\n",
    "            else:\n",
    "                dataOfMedian.loc[dataOfMedian[\"country\"]==country,\"daily_vaccinations\"]=0\n",
    "        return dataOfMedian   \n",
    "\n",
    "\n",
    "print(\"What do you want to do?\\n\"\n",
    "      \"If operation is 'q', terminate the program.\\n\"\n",
    "      \"If operation is '1', Create the Database and Save the Dataset.\\n\"\n",
    "      \"If operation is '2', Fill missing data in the Dataset with Median and save to the database.\\n\")\n",
    "\n",
    "\n",
    "\n",
    "while True:\n",
    "    operation=input(\"Opreation=\")\n",
    "    objectOfDatabase=CreateDatabse()\n",
    "        \n",
    "    if(operation==\"q\"):\n",
    "        break\n",
    "            \n",
    "    elif(operation==\"1\"):\n",
    "        dataCopy=np.array(dataCopy)\n",
    "        objectOfDatabase.loadTheDataset(dataCopy)\n",
    "            \n",
    "    elif(operation==\"2\"):\n",
    "        dataCopy=data\n",
    "        objectCalculateMedian=calculateMedian()\n",
    "        dataCopy=objectCalculateMedian.calculateMedianOfData(dataCopy)\n",
    "        dataCopy=np.array(dataCopy)\n",
    "        objectOfDatabase.updateTheDataset(dataCopy)\n",
    "            \n",
    "    objectOfDatabase.closeConnection()\n",
    "    \n"
   ]
  }
 ],
 "metadata": {
  "kernelspec": {
   "display_name": "Python 3 (ipykernel)",
   "language": "python",
   "name": "python3"
  },
  "language_info": {
   "codemirror_mode": {
    "name": "ipython",
    "version": 3
   },
   "file_extension": ".py",
   "mimetype": "text/x-python",
   "name": "python",
   "nbconvert_exporter": "python",
   "pygments_lexer": "ipython3",
   "version": "3.11.7"
  }
 },
 "nbformat": 4,
 "nbformat_minor": 5
}
