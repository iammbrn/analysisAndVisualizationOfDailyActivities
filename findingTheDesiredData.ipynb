{
 "cells": [
  {
   "cell_type": "markdown",
   "id": "2fd3cbbf-7572-4fdf-b205-b96fc8f1094f",
   "metadata": {},
   "source": [
    "**Code Implementation Task:** Implement code to list the top-3 countries with highest median daily vaccination numbers by considering missing values imputed version of dataset.\n",
    "\n",
    "**Code Implementation Task:** What is the number of total vaccinations done on 1/6/2021 (MM/DD/YYYY) by considering missing values imputed version of dataset?"
   ]
  },
  {
   "cell_type": "code",
   "execution_count": 21,
   "id": "33666495-03f6-4657-82eb-342884dcbfcd",
   "metadata": {},
   "outputs": [],
   "source": [
    "#We are including the libraries.\n",
    "import numpy as np\n",
    "import pandas as pd\n",
    "import matplotlib.pyplot as plt\n",
    "import seaborn as sns\n",
    "import missingno \n"
   ]
  },
  {
   "cell_type": "code",
   "execution_count": 22,
   "id": "4d48de76-5ac2-4ec7-913e-272a6a7bec54",
   "metadata": {},
   "outputs": [],
   "source": [
    "data=pd.read_csv(\"country_vaccination_stats.csv\") #We are reading the Excel file.\n",
    "dataCopy=data "
   ]
  },
  {
   "cell_type": "code",
   "execution_count": 23,
   "id": "99fa61d7-0338-4b17-ba31-8aebfe63eb07",
   "metadata": {},
   "outputs": [
    {
     "data": {
      "text/html": [
       "<div>\n",
       "<style scoped>\n",
       "    .dataframe tbody tr th:only-of-type {\n",
       "        vertical-align: middle;\n",
       "    }\n",
       "\n",
       "    .dataframe tbody tr th {\n",
       "        vertical-align: top;\n",
       "    }\n",
       "\n",
       "    .dataframe thead th {\n",
       "        text-align: right;\n",
       "    }\n",
       "</style>\n",
       "<table border=\"1\" class=\"dataframe\">\n",
       "  <thead>\n",
       "    <tr style=\"text-align: right;\">\n",
       "      <th></th>\n",
       "      <th>country</th>\n",
       "      <th>date</th>\n",
       "      <th>daily_vaccinations</th>\n",
       "      <th>vaccines</th>\n",
       "    </tr>\n",
       "  </thead>\n",
       "  <tbody>\n",
       "    <tr>\n",
       "      <th>1374</th>\n",
       "      <td>United Arab Emirates</td>\n",
       "      <td>1/14/2021</td>\n",
       "      <td>91448.0</td>\n",
       "      <td>Pfizer/BioNTech, Sinopharm</td>\n",
       "    </tr>\n",
       "    <tr>\n",
       "      <th>1282</th>\n",
       "      <td>Spain</td>\n",
       "      <td>1/8/2021</td>\n",
       "      <td>48786.0</td>\n",
       "      <td>Moderna, Pfizer/BioNTech</td>\n",
       "    </tr>\n",
       "    <tr>\n",
       "      <th>1193</th>\n",
       "      <td>Serbia</td>\n",
       "      <td>1/8/2021</td>\n",
       "      <td>NaN</td>\n",
       "      <td>Pfizer/BioNTech, Sinopharm, Sputnik V</td>\n",
       "    </tr>\n",
       "    <tr>\n",
       "      <th>1307</th>\n",
       "      <td>Sweden</td>\n",
       "      <td>1/3/2021</td>\n",
       "      <td>3859.0</td>\n",
       "      <td>Pfizer/BioNTech</td>\n",
       "    </tr>\n",
       "    <tr>\n",
       "      <th>133</th>\n",
       "      <td>Bulgaria</td>\n",
       "      <td>1/18/2021</td>\n",
       "      <td>782.0</td>\n",
       "      <td>Moderna, Pfizer/BioNTech</td>\n",
       "    </tr>\n",
       "  </tbody>\n",
       "</table>\n",
       "</div>"
      ],
      "text/plain": [
       "                   country       date  daily_vaccinations  \\\n",
       "1374  United Arab Emirates  1/14/2021             91448.0   \n",
       "1282                 Spain   1/8/2021             48786.0   \n",
       "1193                Serbia   1/8/2021                 NaN   \n",
       "1307                Sweden   1/3/2021              3859.0   \n",
       "133               Bulgaria  1/18/2021               782.0   \n",
       "\n",
       "                                   vaccines  \n",
       "1374             Pfizer/BioNTech, Sinopharm  \n",
       "1282               Moderna, Pfizer/BioNTech  \n",
       "1193  Pfizer/BioNTech, Sinopharm, Sputnik V  \n",
       "1307                        Pfizer/BioNTech  \n",
       "133                Moderna, Pfizer/BioNTech  "
      ]
     },
     "execution_count": 23,
     "metadata": {},
     "output_type": "execute_result"
    }
   ],
   "source": [
    "dataCopy.sample(5) #We use it to display five random data."
   ]
  },
  {
   "cell_type": "code",
   "execution_count": 24,
   "id": "45ae85b3-218d-4ebf-a0b5-81819ed94ffe",
   "metadata": {},
   "outputs": [
    {
     "data": {
      "text/plain": [
       "country\n",
       "Argentina                 15656.0\n",
       "Austria                   12552.0\n",
       "Bahrain                   11106.0\n",
       "Belgium                   13135.0\n",
       "Brazil                    99928.0\n",
       "Bulgaria                   2889.0\n",
       "Canada                    39910.0\n",
       "Chile                      6328.0\n",
       "China                    714286.0\n",
       "Costa Rica                 2158.0\n",
       "Croatia                    3346.0\n",
       "Cyprus                     1022.0\n",
       "Czechia                   11220.0\n",
       "Denmark                   11022.0\n",
       "Ecuador                     108.0\n",
       "England                  317419.0\n",
       "Estonia                    1244.0\n",
       "Finland                    8012.0\n",
       "France                    87584.0\n",
       "Germany                   87377.0\n",
       "Gibraltar                  1040.0\n",
       "Greece                    13165.0\n",
       "Hungary                    9418.0\n",
       "Iceland                    1306.0\n",
       "India                    224251.0\n",
       "Indonesia                 13200.0\n",
       "Ireland                    9452.0\n",
       "Isle of Man                 163.0\n",
       "Israel                   177883.0\n",
       "Italy                     81858.0\n",
       "Kuwait                        NaN\n",
       "Latvia                     1309.0\n",
       "Lithuania                  4960.0\n",
       "Luxembourg                  565.0\n",
       "Malta                      1190.0\n",
       "Mexico                    57924.0\n",
       "Netherlands               11429.0\n",
       "Northern Ireland           9044.0\n",
       "Norway                     4356.0\n",
       "Oman                       1663.0\n",
       "Panama                     1694.0\n",
       "Poland                    38059.0\n",
       "Portugal                  19200.0\n",
       "Romania                   35627.0\n",
       "Russia                    68000.0\n",
       "Saudi Arabia              37862.0\n",
       "Scotland                  22034.0\n",
       "Serbia                    31534.0\n",
       "Seychelles                 1841.0\n",
       "Singapore                  5380.0\n",
       "Slovakia                   5968.0\n",
       "Slovenia                   3073.0\n",
       "Spain                     70264.0\n",
       "Sweden                     9616.0\n",
       "Switzerland               14826.0\n",
       "Turkey                   308326.0\n",
       "United Arab Emirates     114896.0\n",
       "United Kingdom           362307.0\n",
       "United States           1126251.0\n",
       "Wales                     17371.0\n",
       "Name: daily_vaccinations, dtype: float64"
      ]
     },
     "execution_count": 24,
     "metadata": {},
     "output_type": "execute_result"
    }
   ],
   "source": [
    "data.groupby(\"country\").max()[\"daily_vaccinations\"] #We use it to find the daily maximum vaccination value by countries."
   ]
  },
  {
   "cell_type": "markdown",
   "id": "ec1a26eb-f92a-423f-bba2-bea3b66361fe",
   "metadata": {},
   "source": [
    "Below, we sort the given data parameter by daily maximum vaccination values per country in descending order, \n",
    "and then return the top three values using the return statement."
   ]
  },
  {
   "cell_type": "code",
   "execution_count": 25,
   "id": "6a3aa0c0-2607-4976-b9fb-adb775675e38",
   "metadata": {},
   "outputs": [
    {
     "data": {
      "text/plain": [
       "country\n",
       "United States     1126251.0\n",
       "China              714286.0\n",
       "United Kingdom     362307.0\n",
       "Name: daily_vaccinations, dtype: float64"
      ]
     },
     "execution_count": 25,
     "metadata": {},
     "output_type": "execute_result"
    }
   ],
   "source": [
    "\n",
    "def findtheHighestVaccinationCount(data):\n",
    "    result=data.groupby(\"country\").max()[\"daily_vaccinations\"].sort_values(ascending=False)\n",
    "    result=result.head(3)\n",
    "    return result\n",
    "\n",
    "findtheHighestVaccinationCount(dataCopy)"
   ]
  },
  {
   "cell_type": "code",
   "execution_count": 26,
   "id": "72cf85d1-7822-4cf7-8832-5bc29e105688",
   "metadata": {},
   "outputs": [
    {
     "data": {
      "text/plain": [
       "[1126251.0, 714286.0, 362307.0]"
      ]
     },
     "execution_count": 26,
     "metadata": {},
     "output_type": "execute_result"
    }
   ],
   "source": [
    "list(findtheHighestVaccinationCount(dataCopy)) #We use it to convert our data into a list."
   ]
  },
  {
   "cell_type": "markdown",
   "id": "5a6bcfc6-b933-464c-817c-abee86c2e1f4",
   "metadata": {},
   "source": [
    "Below, we sum the vaccination values based on the date information provided as a parameter, and return the result using the return statement."
   ]
  },
  {
   "cell_type": "code",
   "execution_count": 27,
   "id": "888d0ce4-c28f-4697-97c8-e53764750bc3",
   "metadata": {},
   "outputs": [
    {
     "data": {
      "text/plain": [
       "1466568.0"
      ]
     },
     "execution_count": 27,
     "metadata": {},
     "output_type": "execute_result"
    }
   ],
   "source": [
    "\n",
    "def findtheTotalVaccinationCountbyDate(date):\n",
    "    return dataCopy[dataCopy[\"date\"]==date].sum()[\"daily_vaccinations\"]\n",
    "    \n",
    "findtheTotalVaccinationCountbyDate(\"1/6/2021\")"
   ]
  },
  {
   "cell_type": "code",
   "execution_count": 28,
   "id": "a8245903-2ae5-4ee1-a0af-82eb866ed3f2",
   "metadata": {},
   "outputs": [
    {
     "data": {
      "text/plain": [
       "1466568.0"
      ]
     },
     "execution_count": 28,
     "metadata": {},
     "output_type": "execute_result"
    }
   ],
   "source": [
    "dataCopy[dataCopy[\"date\"]==\"1/6/2021\"][\"daily_vaccinations\"].sum() #We use it to sum the vaccination values based on the given date information."
   ]
  }
 ],
 "metadata": {
  "kernelspec": {
   "display_name": "Python 3 (ipykernel)",
   "language": "python",
   "name": "python3"
  },
  "language_info": {
   "codemirror_mode": {
    "name": "ipython",
    "version": 3
   },
   "file_extension": ".py",
   "mimetype": "text/x-python",
   "name": "python",
   "nbconvert_exporter": "python",
   "pygments_lexer": "ipython3",
   "version": "3.11.7"
  }
 },
 "nbformat": 4,
 "nbformat_minor": 5
}
